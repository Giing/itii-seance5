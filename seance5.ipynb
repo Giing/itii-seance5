{
  "nbformat": 4,
  "nbformat_minor": 0,
  "metadata": {
    "kernelspec": {
      "display_name": "Python 3",
      "language": "python",
      "name": "python3"
    },
    "language_info": {
      "codemirror_mode": {
        "name": "ipython",
        "version": 3
      },
      "file_extension": ".py",
      "mimetype": "text/x-python",
      "name": "python",
      "nbconvert_exporter": "python",
      "pygments_lexer": "ipython3",
      "version": "3.7.6"
    },
    "colab": {
      "name": "seance5.ipynb",
      "provenance": [],
      "collapsed_sections": []
    }
  },
  "cells": [
    {
      "cell_type": "markdown",
      "metadata": {
        "id": "Fl2fzjj548Ba"
      },
      "source": [
        "Ex1:\n",
        "    \n",
        "1. Ecrire une fonction qui prend en entrée une fonction f et des réels a et h et donne en sortie le taux de variation (ou d'accroissement) de la fonction f entre le point d'abscisse a+h et a.\n",
        "2. Tester avec f(x)=3x^3+1x^2-5"
      ]
    },
    {
      "cell_type": "code",
      "metadata": {
        "id": "Rjr4qhyc48Bc",
        "outputId": "9d29e2c9-f2b0-4ca3-84c4-832bc7af7653",
        "colab": {
          "base_uri": "https://localhost:8080/"
        }
      },
      "source": [
        "import numpy\n",
        "\n",
        "def variation(f, a, h):\n",
        "    return (f(a+h)-f(a))/h\n",
        "    \n",
        "\n",
        "def f(x):\n",
        "    return 3*pow(x, 3) + 1*pow(x, 2) - 5\n",
        "\n",
        "variation(f, 10, 3)"
      ],
      "execution_count": 6,
      "outputs": [
        {
          "output_type": "execute_result",
          "data": {
            "text/plain": [
              "1220.0"
            ]
          },
          "metadata": {
            "tags": []
          },
          "execution_count": 6
        }
      ]
    },
    {
      "cell_type": "markdown",
      "metadata": {
        "id": "w9zfqgFl48Bm"
      },
      "source": [
        "Ex2:\n",
        "1. Ecrire une fonction qui calcule la liste des coefficients directeurs pour une fonction f définit sur I=[a;b] avec un pas \"p\"\n",
        "2. Tester avec f(x)=(1+x)/(x-4) définit sur I=[0,1] avec un pas de 0.01"
      ]
    },
    {
      "cell_type": "code",
      "metadata": {
        "id": "TZTHT_jB48Br",
        "outputId": "0d22f885-a94a-4061-c514-4da3f48fefc9",
        "colab": {
          "base_uri": "https://localhost:8080/"
        }
      },
      "source": [
        "def f(x):\n",
        "    return (1+x)/(x-4)\n",
        "\n",
        "def coeffdirecteur(f, a, b, p):\n",
        "    coeff = []\n",
        "    i = a\n",
        "    while i < b:\n",
        "        coeff.append(f(i))\n",
        "        i += p\n",
        "    return coeff\n",
        "\n",
        "print(coeffdirecteur(f, 0, 1, 0.01))"
      ],
      "execution_count": 9,
      "outputs": [
        {
          "output_type": "stream",
          "text": [
            "[-0.25, -0.2531328320802005, -0.2562814070351759, -0.2594458438287154, -0.26262626262626265, -0.26582278481012656, -0.2690355329949239, -0.272264631043257, -0.2755102040816327, -0.27877237851662406, -0.2820512820512821, -0.2853470437017994, -0.28865979381443296, -0.2919896640826873, -0.29533678756476683, -0.2987012987012987, -0.3020833333333333, -0.3054830287206266, -0.3089005235602094, -0.3123359580052493, -0.3157894736842105, -0.31926121372031663, -0.32275132275132273, -0.32625994694960214, -0.3297872340425532, -0.3333333333333333, -0.33689839572192515, -0.34048257372654156, -0.34408602150537637, -0.3477088948787062, -0.35135135135135137, -0.3550135501355014, -0.3586956521739131, -0.36239782016348776, -0.36612021857923505, -0.36986301369863017, -0.3736263736263737, -0.37741046831955927, -0.38121546961325975, -0.38504155124653744, -0.38888888888888895, -0.392757660167131, -0.3966480446927375, -0.40056022408963593, -0.404494382022472, -0.4084507042253522, -0.41242937853107353, -0.41643059490084994, -0.4204545454545456, -0.4245014245014246, -0.42857142857142866, -0.4326647564469915, -0.43678160919540243, -0.44092219020172924, -0.4450867052023122, -0.4492753623188407, -0.4534883720930234, -0.457725947521866, -0.46198830409356734, -0.46627565982404706, -0.4705882352941178, -0.4749262536873158, -0.4792899408284025, -0.4836795252225521, -0.4880952380952383, -0.49253731343283597, -0.49700598802395224, -0.5015015015015016, -0.5060240963855424, -0.5105740181268884, -0.5151515151515152, -0.5197568389057753, -0.5243902439024393, -0.5290519877675843, -0.5337423312883437, -0.5384615384615387, -0.5432098765432102, -0.5479876160990714, -0.5527950310559008, -0.5576323987538944, -0.5625000000000003, -0.5673981191222573, -0.5723270440251574, -0.5772870662460571, -0.5822784810126586, -0.5873015873015875, -0.5923566878980894, -0.5974440894568693, -0.6025641025641029, -0.6077170418006433, -0.6129032258064518, -0.6181229773462786, -0.6233766233766237, -0.6286644951140068, -0.6339869281045755, -0.6393442622950823, -0.6447368421052635, -0.6501650165016505, -0.655629139072848, -0.6611295681063126]\n"
          ],
          "name": "stdout"
        }
      ]
    },
    {
      "cell_type": "markdown",
      "metadata": {
        "id": "i6p5qTnR48Bx"
      },
      "source": [
        "Ex3:\n",
        "on considère une suite U définie par Un+1=Un+n+1 et de premier terme U0. Ecrire une fonction qui prend en entrée les valeurs de n et U0 et affiche la valeur de Un.\n",
        "1. De facon iterative\n",
        "2. Par recurence"
      ]
    },
    {
      "cell_type": "code",
      "metadata": {
        "id": "sXVlhcEb48Bz",
        "outputId": "8c59bac5-16b3-489c-880e-606d2ead56ba",
        "colab": {
          "base_uri": "https://localhost:8080/"
        }
      },
      "source": [
        "def f(n):\n",
        "  return n + 1\n",
        "\n",
        "def iterative(n, u):\n",
        "  result = u\n",
        "  for i in range(1, n+1):\n",
        "    result += f(i)\n",
        "  return result\n",
        "\n",
        "def recursive(n, u):\n",
        "  if n == 0:\n",
        "    return u\n",
        "  else:\n",
        "    return recursive(n-1, u) + n + 1\n",
        "  \n",
        "print(recursive(10, 2))\n",
        "print(iterative(10, 2)) "
      ],
      "execution_count": 12,
      "outputs": [
        {
          "output_type": "stream",
          "text": [
            "67\n",
            "67\n"
          ],
          "name": "stdout"
        }
      ]
    },
    {
      "cell_type": "markdown",
      "metadata": {
        "id": "TMNXf7V448B5"
      },
      "source": [
        "Ex4:\n",
        "On pose Tn=n^2−(n−1)^2 ainsi que Sn=T1+T2+T3+...+Tn.\n",
        "1. Etant donné n, afficher la valeur de Sn."
      ]
    },
    {
      "cell_type": "code",
      "metadata": {
        "id": "ImmeCNpt48B6",
        "outputId": "31b415ed-71bf-4588-f890-bc306349360b",
        "colab": {
          "base_uri": "https://localhost:8080/"
        }
      },
      "source": [
        "import numpy\n",
        "\n",
        "def T(n):\n",
        "    return (n**2-((n-1)**2))\n",
        "\n",
        "def somme(n):\n",
        "    result = 0\n",
        "    for i in range(1, n+1):\n",
        "        result += T(i)\n",
        "    return result\n",
        "\n",
        "somme(3)"
      ],
      "execution_count": 13,
      "outputs": [
        {
          "output_type": "execute_result",
          "data": {
            "text/plain": [
              "9"
            ]
          },
          "metadata": {
            "tags": []
          },
          "execution_count": 13
        }
      ]
    },
    {
      "cell_type": "markdown",
      "metadata": {
        "id": "K6AaaCtR48B_"
      },
      "source": [
        "Ex5:\n",
        "Soit la suite définie par Un+1=0.5.Un et de premier terme U0. Plus la valeur de n augmente, plus les valeurs de Un se rapprochent de 0.\n",
        "\n",
        "Ecrire une fonction qui permet de déterminer pour un réel positif e donné, quel est le plus petit entier n tel que la valeur de Un soit inférieure à e.\n"
      ]
    },
    {
      "cell_type": "code",
      "metadata": {
        "id": "B_mn8lGD48CB",
        "outputId": "275af361-752f-4c96-b0d6-d05b2aff5dd9",
        "colab": {
          "base_uri": "https://localhost:8080/"
        }
      },
      "source": [
        "def find_real(e, uO):\n",
        "    un = uO\n",
        "    n = 0\n",
        "    while 1: \n",
        "        if un < e:\n",
        "            return n\n",
        "        else:\n",
        "            n+=1\n",
        "            un = suite(un)\n",
        "\n",
        "def suite(un):\n",
        "    return 0.5*un\n",
        "\n",
        "find_real(2, 4)"
      ],
      "execution_count": 19,
      "outputs": [
        {
          "output_type": "execute_result",
          "data": {
            "text/plain": [
              "2"
            ]
          },
          "metadata": {
            "tags": []
          },
          "execution_count": 19
        }
      ]
    },
    {
      "cell_type": "markdown",
      "metadata": {
        "id": "j8iab8Yo48CG"
      },
      "source": [
        "Ex6: Constante K de Catalan : https://fr.wikipedia.org/wiki/Constante_de_Catalan\n",
        "Ecrire une fonction qui permet de retourner une valeur approchée de la constante K et en s’arrêtant dès que la valeur absolue de la différence entre deux somme successives devienne inférieure ou égale à une erreur epsilon donnée en paramètre.\n",
        "\n"
      ]
    },
    {
      "cell_type": "code",
      "metadata": {
        "id": "z5GhLrVf48CI",
        "outputId": "b3b09a8a-ceaa-45fb-b388-6fd5de537c89",
        "colab": {
          "base_uri": "https://localhost:8080/"
        }
      },
      "source": [
        "def catalan(e): \n",
        "    nbr1=1\n",
        "    nbr2=nbr1-1/(3**2)\n",
        "    signe=1\n",
        "    val=5\n",
        "    while abs(nbr2-nbr1) > e:\n",
        "       nbr1=nbr2\n",
        "       nbr2=nbr1+signe*(1/(val**2))\n",
        "       val+=2\n",
        "       signe*=-1\n",
        "    return nbr2\n",
        "\n",
        "catalan(0.001)"
      ],
      "execution_count": 23,
      "outputs": [
        {
          "output_type": "execute_result",
          "data": {
            "text/plain": [
              "0.9163970056315769"
            ]
          },
          "metadata": {
            "tags": []
          },
          "execution_count": 23
        }
      ]
    },
    {
      "cell_type": "markdown",
      "metadata": {
        "id": "54hTgcte48CM"
      },
      "source": [
        "Ex 7:\n",
        "Ecrivez une fonction permettant de calculer la limite à epsilon près de la suite définie par la relation de récurrence :\n",
        "\n",
        "U0 =2\n",
        "Un+1= Un + 2/Un  , n>0.\n",
        "\n",
        "On arrête d’itérer quand l’intervalle entre 2 termes consécutifs devient strictement inférieur à epsilon."
      ]
    },
    {
      "cell_type": "code",
      "metadata": {
        "id": "PfvDJUpME9sM",
        "outputId": "91eca73b-89b4-44fa-cc84-fcb53b303a67",
        "colab": {
          "base_uri": "https://localhost:8080/"
        }
      },
      "source": [
        "def limite(e):\n",
        "    uO = 2\n",
        "    Un = uO+2/uO\n",
        "    while abs(Un-uO) > e:\n",
        "        uO = Un\n",
        "        Un = uO+2/uO\n",
        "    return Un\n",
        " \n",
        "limite(0.05)"
      ],
      "execution_count": 24,
      "outputs": [
        {
          "output_type": "execute_result",
          "data": {
            "text/plain": [
              "40.07875060343533"
            ]
          },
          "metadata": {
            "tags": []
          },
          "execution_count": 24
        }
      ]
    }
  ]
}